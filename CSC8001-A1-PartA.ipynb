{
 "cells": [
  {
   "cell_type": "markdown",
   "metadata": {},
   "source": [
    "# CSC8001: Assignment 1"
   ]
  },
  {
   "cell_type": "markdown",
   "metadata": {},
   "source": [
    "## Part A - Literary Scrabble [60 marks]\n",
    "\n",
    "Let's play a round of Literary Scrabble: a game of Scrabble where you can only play words that appear in selected literary classics.  The functions you will write for Part A will let you answer questions like:\n",
    "\n",
    "- How many unique words does Mark Twain's book the <em>Adventures of Huckleberry Finn</em> have?\n",
    "\n",
    "- What is the highest scoring word from Lewis Carroll's <em>Alice's Adventures in Wonderland</em> that you can play with the letters 'qazvredl'?\n",
    "\n",
    "- Which books have the most words which use the letters `j` and `x`?\n",
    "\n",
    "\n",
    "For Part A complete each of the Word Analysis and Word Questions functions below.  The Word Analysis functions will provide the primary text analysis to help you answer the questions defined in this notebook. The code you write for each Word Question's function will need to call the appropriate Word Analysis function(s) and then complete any additional processing necessary to answer the specific question.  \n",
    "\n",
    "- Answers to the specific questions above have been provided for you so that you can test your code.  \n",
    "- Text files for creating word lists are available in the `books` folder."
   ]
  },
  {
   "cell_type": "code",
   "execution_count": 1,
   "metadata": {},
   "outputs": [],
   "source": [
    "from __future__ import print_function\n",
    "\n",
    "import string"
   ]
  },
  {
   "cell_type": "markdown",
   "metadata": {},
   "source": [
    "### Word Analysis"
   ]
  },
  {
   "cell_type": "markdown",
   "metadata": {},
   "source": [
    "#### Create Book Word List [12 Marks]\n",
    "\n",
    "Complete the function below which should read a book's text file, and return a sorted list (ascending) of words (i.e. - no duplicates) extracted from the book's `text_file` that also exist in the official Sowpods list of approved scrabble words.  \n",
    "\n",
    "To create your book's word list: \n",
    "- convert all characters to lowercase;  \n",
    "- replace hyphens with a single space, `' '`, to split hyphenated words into separate words; \n",
    "- strip off all contractions and possessives from words: 's, 're, etc \n",
    "- remove all punctuation, whitespace characters and numbers.\n",
    "- only keep words which also occur in the official Sowpods list\n",
    "\n",
    "HINT: The Python Standard Library provides various string constants, such as `whitespace` and `punctuation`.  You may want to review the Python Standard Library's sections on string methods and constants.\n",
    "- [String constants](https://docs.python.org/3/library/string.html#string-constants)\n",
    "- [String methods](https://docs.python.org/3/library/stdtypes.html#text-sequence-type-str)\n",
    "\n",
    "**NOTE: Creating a book's word list may take several seconds of processing time.**.  We recommend you use the smaller book file, `\"-ch1.txt\"` extracts, while you are testing your code."
   ]
  },
  {
   "cell_type": "code",
   "execution_count": 2,
   "metadata": {},
   "outputs": [],
   "source": [
    "def create_wordlist(text_file):\n",
    "    \"\"\" Take single argument 'text_file' and proccess as follows:\n",
    "            convert all characters to lowercase;\n",
    "            replace hyphens with a single space, ' ', to split hyphenated words into separate words;\n",
    "            split line into a list of words\n",
    "            for each word in this list\n",
    "                strip off all contractions and possessives from words: 's, 're, etc\n",
    "                remove all punctuation, whitespace characters and numbers.\n",
    "            only keep words which also occur in the official Sowpods list\n",
    "        Return a list of found words\n",
    "        \n",
    "    \"\"\"\n",
    "    word_list = []\n",
    "    with open(text_file,'r') as test_book:\n",
    "        for line in test_book:\n",
    "            lower_line = line.lower()\n",
    "            while '-' in lower_line:\n",
    "                lower_line = lower_line[:lower_line.find('-')]+' '+lower_line[lower_line.find('-')+1:]\n",
    "\n",
    "            lower_line_list = lower_line.split() #split line into a list of words\n",
    "            index = 0\n",
    "            while index < len(lower_line_list):\n",
    "                current_word = lower_line_list[index]\n",
    "                if \"'\" in current_word:\n",
    "                    found_word = current_word[:current_word.find(\"'\")]\n",
    "                else:\n",
    "                    found_word = current_word\n",
    "                no_punc_found_word = ''\n",
    "                for c in found_word:\n",
    "                    if c not in string.punctuation:  #see if the current character is a punctuation character\n",
    "                        no_punc_found_word += c\n",
    "\n",
    "                with open ('books/sowpods.txt','r') as sow_pods:\n",
    "                    for check_line in sow_pods:\n",
    "                        sline = check_line.strip()\n",
    "                        sline_lower = sline.lower()\n",
    "                        if no_punc_found_word == sline_lower:\n",
    "                            if no_punc_found_word in word_list:\n",
    "                                pass\n",
    "                            else:\n",
    "                                word_list.append(no_punc_found_word)\n",
    "                index += 1\n",
    "    \n",
    "    return word_list\n"
   ]
  },
  {
   "cell_type": "markdown",
   "metadata": {},
   "source": [
    "#### Word Match [8 Marks]\n",
    "\n",
    "The `word_match` function below should return `True` or `False` depending on if the `word` can be created from the provided string of `letters`. The `word` does not have to use all of the letters.  NOTE: Each letter in `letters` can only be used once.\n",
    "\n",
    "For example: \n",
    "- `word_match('toe', 'potatoe')`, returns `True`\n",
    "- `word_match('ball', 'abcledg')`, returns `False`   "
   ]
  },
  {
   "cell_type": "code",
   "execution_count": 3,
   "metadata": {},
   "outputs": [],
   "source": [
    "def word_match(word, letters):\n",
    "    \"\"\" Return True or False if argument 'word' can be made from argument 'letters'\n",
    "    \n",
    "    \"\"\"\n",
    "    match = False\n",
    "    if len(word) <= len(letters):  #if there are not enough letters can't match\n",
    "        word_list = list(word)\n",
    "        letters_list = list(letters)\n",
    "        word_index = 0\n",
    "        search_letter = ''\n",
    "        match = True\n",
    "        while (word_index < len(word_list)) & match:\n",
    "            search_letter = word_list[word_index]\n",
    "            if (word_list.count(search_letter) <= letters_list.count(search_letter)):\n",
    "                word_list.remove(search_letter)\n",
    "                letters_list.remove(search_letter)\n",
    "            else:\n",
    "                match = False\n",
    "    \n",
    "    return match\n"
   ]
  },
  {
   "cell_type": "markdown",
   "metadata": {},
   "source": [
    "#### Word Score [8 Marks]\n",
    "\n",
    "The `word_score` function below should return a word's scrabble score (integer). Use the [English Scrabble letter distribution](https://en.wikipedia.org/wiki/Scrabble_letter_distribution) values to calculate the word's scrabble score.\n",
    "\n",
    "Example: the word 'affixes' `word_score` should be `20`\n",
    "\n",
    "\n",
    "Points | Letters\n",
    ":--: | :--\n",
    "1 | e, a, i, o, n, r, t, l, s, u\n",
    "2 | d, g\n",
    "3 | b, c, m, p\n",
    "4 | f, h, v, w, y\n",
    "5 | k\n",
    "8 | j, x\n",
    "10 | q, z"
   ]
  },
  {
   "cell_type": "code",
   "execution_count": 4,
   "metadata": {},
   "outputs": [],
   "source": [
    "def word_score(word):\n",
    "    \"\"\" Return an integer score value, based on defined letter values, for argument 'word'\n",
    "    \n",
    "    \"\"\"\n",
    "    value1 = 'eaionrtlsu'\n",
    "    value2 = 'dg'\n",
    "    value3 = 'bcmp'\n",
    "    value4 = 'fhvwy'\n",
    "    value5 = 'k'\n",
    "    value8 = 'jx'\n",
    "    value10 = 'qz'\n",
    "    \n",
    "    score = 0\n",
    "    \n",
    "    if len(word) > 0:\n",
    "        wordIndex = 0\n",
    "        while wordIndex < len(word):\n",
    "            if word[wordIndex] in value1:\n",
    "                score += 1\n",
    "            elif word[wordIndex] in value2:\n",
    "                score += 2\n",
    "            elif word[wordIndex] in value3:\n",
    "                score += 3\n",
    "            elif word[wordIndex] in value4:\n",
    "                score += 4\n",
    "            elif word[wordIndex] in value5:\n",
    "                score += 5\n",
    "            elif word[wordIndex] in value8:\n",
    "                score += 8\n",
    "            else:\n",
    "                score += 10\n",
    "            \n",
    "            wordIndex += 1\n",
    "            \n",
    "    return score\n"
   ]
  },
  {
   "cell_type": "markdown",
   "metadata": {},
   "source": [
    "#### Find Words [8 Marks]\n",
    "\n",
    "You're playing Literary Scrabble where you can only play words extracted from famous books. You have pulled your letters and there are lots of possibilities but you obviously want to play a hand which will get you the highest score. \n",
    "\n",
    "Complete the `find_words` function below which should return a dictionary of valid words (selected from the provided `words_list`) that can be created from the letters provided. The keys for the returned dictionary are the words, the values are each word's scrabble score. \n",
    "\n",
    "- Use the `word_match` function above to find word/letters matches.  \n",
    "- Use the `word_score` function above to calculate each word's scrabble score.  \n"
   ]
  },
  {
   "cell_type": "code",
   "execution_count": 5,
   "metadata": {},
   "outputs": [],
   "source": [
    "def find_words(words_list, letters):\n",
    "    \"\"\" From the argument 'words_list', find what what words can be created from the argument 'letters', and calculate\n",
    "        a score for each found word.\n",
    "        Return a dictionary of found words and their scores\n",
    "        \n",
    "    \"\"\"\n",
    "    #create an empty dictionary for results\n",
    "    results = dict()\n",
    "    \n",
    "    #for each word in words_list find it in letters\n",
    "    for word in words_list:\n",
    "        if word_match(word,letters):\n",
    "\n",
    "        #if its not already there, add the word and its score to found_words dictionary\n",
    "\n",
    "            if word not in results:\n",
    "                    results[word] = word_score(word)\n",
    "    \n",
    "    #return the found_words dictionary\n",
    "\n",
    "    return results\n"
   ]
  },
  {
   "cell_type": "markdown",
   "metadata": {
    "collapsed": true
   },
   "source": [
    "### Word Questions\n",
    "\n",
    "Each Word Question function below will need to call the appropriate Word Analysis function(s) and then inclue any additional code required to answer the specific question.\n",
    "\n",
    "#### a1: Unique words [6 Marks]\n",
    "\n",
    "Return the number (integer) of unique words contained in `text_file`.\n",
    "\n",
    ">How many unique words does Mark Twain's <em> Adventures of Huckleberry Finn</em> have?  (available in the A1 `books` folder)  \n",
    ">Answer: 422"
   ]
  },
  {
   "cell_type": "code",
   "execution_count": 6,
   "metadata": {},
   "outputs": [],
   "source": [
    "def a1(text_file):\n",
    "    \"\"\" Return the number of unique words in the supplied 'text_file' and existing in sowpods reference\n",
    "    \n",
    "    \"\"\" \n",
    "    #find all the words in text_file that are in sowpods\n",
    "    #how long is that list\n",
    "    answer = 0\n",
    "    \n",
    "    myList = create_wordlist(text_file)\n",
    "    answer = len(myList)\n",
    "    \n",
    "    \n",
    "    return answer"
   ]
  },
  {
   "cell_type": "code",
   "execution_count": 7,
   "metadata": {},
   "outputs": [
    {
     "data": {
      "text/plain": [
       "422"
      ]
     },
     "execution_count": 7,
     "metadata": {},
     "output_type": "execute_result"
    }
   ],
   "source": [
    "a = a1('books/adventures_of_huckleberry_finn-ch1.txt')\n",
    "a"
   ]
  },
  {
   "cell_type": "markdown",
   "metadata": {},
   "source": [
    "#### a2: Highest score [8 Marks]\n",
    "\n",
    "Your playing Literary Scrabble and its your turn.  What is the highest scoring word you can play with the letters you have based on the words from Chapter 1 of Lewis Carroll's <em>Alice's Adventures in Wonderland</em> (available in the A1 data folder).\n",
    "\n",
    ">Your available scrabble letters are 'qazrvedl'.  Whats the highest scoring word you can play?  \n",
    ">Answer: ('read', 5)"
   ]
  },
  {
   "cell_type": "code",
   "execution_count": 8,
   "metadata": {},
   "outputs": [],
   "source": [
    "def a2(text_file, letters):\n",
    "    \"\"\" find the unique words in the text_file\n",
    "        find what words in text_file can be created from letters .. each word has one unique value .. one to one\n",
    "        find the score for each found word\n",
    "        scan the dictionary and find the highest score\n",
    "        if two scores are the same pick the word with the highest ascii score\n",
    "        return the word and the value\n",
    "    \n",
    "    \"\"\"\n",
    "    \n",
    "    best_word = ''\n",
    "    best_score = 0\n",
    "    found_words_dictionary = ()\n",
    "   \n",
    "    myList = create_wordlist(text_file)\n",
    "    found_words_dictionary = find_words(myList,letters)\n",
    "    \n",
    "    for each_word in found_words_dictionary:\n",
    "        \n",
    "        temp_score = int(found_words_dictionary[each_word])\n",
    "        \n",
    "        if temp_score > best_score:\n",
    "            best_score = temp_score\n",
    "            best_word = each_word\n",
    "        elif temp_score == best_score:\n",
    "            if each_word > best_word:\n",
    "                best_word = each_word\n",
    "    \n",
    "    \n",
    "    return (best_word,best_score)"
   ]
  },
  {
   "cell_type": "code",
   "execution_count": 9,
   "metadata": {},
   "outputs": [
    {
     "data": {
      "text/plain": [
       "('read', 5)"
      ]
     },
     "execution_count": 9,
     "metadata": {},
     "output_type": "execute_result"
    }
   ],
   "source": [
    "a = a2('books/alices_adventures_in_wonderland-ch1.txt','qazrvedl')\n",
    "a"
   ]
  },
  {
   "cell_type": "markdown",
   "metadata": {},
   "source": [
    "#### a3: Books with the most `j` and `x` words [10 Marks]\n",
    "\n",
    "You've just played all of your letters. According to the rules of Literary Scrabble, if you're out of letters you can choose to switch to a new literary novel but you have to do so before you choose your new letters.  \n",
    "\n",
    "You've noticed that no one has played a `j` or a `x` for awhile.  Which may mean there are still some left.  Which is good since these are high value letters, but not good if your next literary book doesn't have many words that contain those letters.  You write a function which counts how many words in a book contain certain letters. Your function accepts and returns a list of tuples, each tuple contains information for one book.  \n",
    "\n",
    "Your function is passed a list of tuples:\n",
    "[(book_ID1, text_file1), (book_ID2, text_file2), (book_ID3, text_file3)]\n",
    "\n",
    "Your function should return a list of tuples:\n",
    "[('book_ID1', word_count1), ('book_ID2', word_count2), ('book_ID3', word_count3)]\n",
    "\n",
    "> How many words in *Alices Adventures in Wonderland* and *War of the Worlds* have the letters j or x?  \n",
    ">Answer: [('Alice', 9), ('War', 24)]\n",
    "\n",
    "(The books are available in the A1 books folder)"
   ]
  },
  {
   "cell_type": "code",
   "execution_count": 10,
   "metadata": {},
   "outputs": [],
   "source": [
    "def a3(book_list, letters):\n",
    "    \"\"\" for each book in the list\n",
    "        get the list of valid words\n",
    "        for each valid word, see if it contains j or x ...or one of the passed letters\n",
    "        count how many words contain any of the passed letters ie j or x\n",
    "        return a list of tuples that have the book_id and the number of found words\n",
    "        \n",
    "    \"\"\"\n",
    "    \n",
    "    books_index = 0\n",
    "    my_options = []\n",
    "    \n",
    "    while books_index < len(book_list):\n",
    "        letter_match_count = 0\n",
    "        word_list = []\n",
    "        found_word = ''\n",
    "        found_words = []\n",
    "        current_book = book_list[books_index][1]\n",
    "        word_list = create_wordlist(current_book)\n",
    "        word_list_index = 0\n",
    "        while word_list_index < len(word_list):\n",
    "            letters_index = 0\n",
    "            while letters_index < len(letters):\n",
    "                if (word_list[word_list_index].find(letters[letters_index]) >= 0):\n",
    "                    found_word = word_list[word_list_index]\n",
    "                    if found_word in found_words:\n",
    "                        pass\n",
    "                    else:\n",
    "                        found_words.append(word_list[word_list_index])\n",
    "                letters_index += 1\n",
    "            word_list_index += 1\n",
    "        letter_match_count = len(found_words)\n",
    "        book_tuple = (book_list[books_index][0],letter_match_count)    \n",
    "        my_options.append(book_tuple)\n",
    "            \n",
    "        books_index += 1\n",
    "    \n",
    "    return my_options\n"
   ]
  },
  {
   "cell_type": "code",
   "execution_count": 11,
   "metadata": {},
   "outputs": [
    {
     "data": {
      "text/plain": [
       "[('War', 24), ('Alice', 9)]"
      ]
     },
     "execution_count": 11,
     "metadata": {},
     "output_type": "execute_result"
    }
   ],
   "source": [
    "a = a3([('War','books/war_of_the_worlds-ch1.txt'), \n",
    "         ('Alice', 'books/alices_adventures_in_wonderland-ch1.txt')], 'jx')\n",
    "a"
   ]
  },
  {
   "cell_type": "code",
   "execution_count": null,
   "metadata": {},
   "outputs": [],
   "source": []
  }
 ],
 "metadata": {
  "kernelspec": {
   "display_name": "Python 3",
   "language": "python",
   "name": "python3"
  },
  "language_info": {
   "codemirror_mode": {
    "name": "ipython",
    "version": 3
   },
   "file_extension": ".py",
   "mimetype": "text/x-python",
   "name": "python",
   "nbconvert_exporter": "python",
   "pygments_lexer": "ipython3",
   "version": "3.6.5"
  }
 },
 "nbformat": 4,
 "nbformat_minor": 2
}
